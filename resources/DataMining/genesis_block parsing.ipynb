{
 "cells": [
  {
   "cell_type": "code",
   "execution_count": 1,
   "metadata": {
    "collapsed": true
   },
   "outputs": [],
   "source": [
    "import json"
   ]
  },
  {
   "cell_type": "code",
   "execution_count": 2,
   "metadata": {},
   "outputs": [
    {
     "name": "stdout",
     "output_type": "stream",
     "text": [
      "{'plyrAddrList': ['-----BEGIN PUBLIC KEY-----\\nMIIBIjANBgkqhkiG9w0BAQEFAAOCAQ8AMIIBCgKCAQEAuFM0gTRS2zIyoJoMBUl6\\n25rlGxM4wgtgSn/QOXQD2QmZ0EXhLto4UMF4qPmMkd3z71ryJ6A2eTZPotIdOXn6\\nPIqIsBtCON9GreVsAoDp4w1B3+19O/OjAHXMQ17M+yR060Bh9Z/8CRzQWSotnLYK\\nz5xyhsHO2M4Hurtl8XMoPfeSi/B/BM3Fx7TdQUY07DGQBNCVTxBtP+cSkXMS3D0M\\nprghyWwKmj5oABKW3XFLZFnj2Sn5fScCeK816BjC73TMCH4g+Oda1+FLX0WDImVw\\nyPeAsXAlo6PFg63VSAHQ6hATA3iLoQxOQts+Mp5T/u85ke8hEH9ZBbsIdINfaek9\\ntQIDAQAB\\n-----END PUBLIC KEY-----', '-----BEGIN PUBLIC KEY-----\\nMIIBIjANBgkqhkiG9w0BAQEFAAOCAQ8AMIIBCgKCAQEAjTOA/XNVVTUttxaXyOOf\\naY25RHjHVuDVNFgK4urx0FDQCcbA98+j8uWq+dMsM3+1g78yjK46uhdR2ZTGhMaR\\nk64kefrmzPZMQtI21UphwaHxk6PcUswMnieOOkJNrT+VpyZ1eI2uGVkrqnODX2EQ\\nMWy5jrs05aAakDLWWFwWZz3dSJ+UjmFepTV/1cLOa8VK+kOL6MtcOj0CxmQvT0VH\\nDDwU0JUZFD1N+j16Ed3UU9BduaICtPPGZIBMzhQQtemxLhJzf4F3PFfD2wYyVwz2\\nvlk1Ye/a7sWMOrC+Apqg3U16gq+arP7XmQN+d4KbWXpdXhEcIwGH7bE9clmYscCX\\ndQIDAQAB\\n-----END PUBLIC KEY-----', '-----BEGIN PUBLIC KEY-----\\nMIIBIjANBgkqhkiG9w0BAQEFAAOCAQ8AMIIBCgKCAQEAmCZvqGOo6+azjRbDZGQ0\\nhO/BklMxN0oNEj3vif0TsA7OyN0eO1mg7CpaAS5utWuS7fnXx+f3k2r+MttNJOVo\\n6hrz4wAjboYHIAyjAoI/1lvQ7ejNEB2IQml6KWIxICeLIuscod+8YGy5mFyRdPFW\\nMlnLudJ7FBa/p7dbANYjfdD0NWU8x409wdHNm+e/hGvMN/pZYFK5UFUMY69pKwsd\\nLE/DXqh86ioNTp1cJ89cmWvzg973+WrIeNY24G9QbwV0VQF+MUDlnn5TBCqQz+9r\\nfXxHEXHMqe/DExHjey8FL/ZhqsMNDwAkHxHLOaCuCpARG2edqnmK7kDZg6AmLbyr\\nLwIDAQAB\\n-----END PUBLIC KEY-----', '-----BEGIN PUBLIC KEY-----\\nMIIBIjANBgkqhkiG9w0BAQEFAAOCAQ8AMIIBCgKCAQEAu7Kf7ddQ8IU63xaWYB5J\\nsxMQXfIrE4vFewYjXvmP2Mjo8nYvGcrHo2hT3yiDIJ2kSEUFnTuuHJRezyZkY9lx\\nuiNAhCB4/26u1+BjtyemAi2oQTlftiSgCAlwzy/Wv6C+UKFER94rIG1IZ+y64yll\\nL7+Zs1DMXn6DxeOSSrn6hh8aZ68eRAOVRQBOURg8qriTOPw6hXGcnxzTENt/HNRm\\nEkdLTV0T9BWDRKfey+hHKX3bcuhKJsPdiafijgi7MRrKvbiPuruDhBwG4fPHOcvG\\nolIEoSP1EUQj39brGwZcXuIkiZBBErt3KacM4ICQwW9ZaLTfOnhM/Chv3XuiSKUu\\ndQIDAQAB\\n-----END PUBLIC KEY-----', '-----BEGIN PUBLIC KEY-----\\nMIIBIjANBgkqhkiG9w0BAQEFAAOCAQ8AMIIBCgKCAQEA4SFVr+4VhM7VcUNo8YSB\\neP+ugEvudCvKQ8Hcb9FNVkVLJD9Ds1UClQ19uSxyLDlhZJnwr/0zExf/F457CQD9\\n20PPLAHGWjTIF8UYs7gZPCRqfbgwO6GD/H25T45fVBoNbM2hNlt7xTlF4dhN52+7\\ng3+blDrncI9Rb9+XB+EIPNeWjeKXetlz+TAB7CZnqoUMm44nHu4DljLraSpcoinn\\n8H2OfEnk+zMwDiye3YfgxLE8xNU2crJqBALR0SOsfnnwy0uBtBHP0IEV7LuaRDQO\\nX5k/5ZDjsn4Q4J0+DeMwK5ZShGo8hLdPK+XYnzSVyXL4BidB9SCROUABW5HpuE9U\\nhwIDAQAB\\n-----END PUBLIC KEY-----', '-----BEGIN PUBLIC KEY-----\\nMIIBIjANBgkqhkiG9w0BAQEFAAOCAQ8AMIIBCgKCAQEAnjJAskFFnT1+ygHrtZht\\nxK5rufE1BCCVDYsKLuA8l7rWmvSKlA8mCwnm7e1lQrbkvcoTKB8tK9+X5u42FJTy\\nOuhbhK91xQJsxL6KzT6KNVwStcvpNGnxHroTeyKroQHSuGLzN0xci88NST60JkvJ\\nkc/FYT3KR3zQ5Zsli5M61jkQpg5xQ1gGS4LaiNughNVeGRzxWW7O9sNXnEEWBrSP\\nzHFYMsPnXvECFf+mjzCJz+7yfTIJcwY84i+cbaHLYdNBM7bWx/d879K9EY6NmaZI\\n+Uhn6jbErQ55Apk795/Z2OonO9kQ63gK/jpFCq9+mJHVky7tE0Lqr6Nkx0CojydZ\\nmQIDAQAB\\n-----END PUBLIC KEY-----', '-----BEGIN PUBLIC KEY-----\\nMIIBIjANBgkqhkiG9w0BAQEFAAOCAQ8AMIIBCgKCAQEAyDhcw38kADZgvgv23i2I\\nvm+tG6sSyzmdRHVXz8xiG4kJ7UXf9bSpWrE3OANCQMuyFyCx7Df5MX8tD9EBAJL6\\ntq7CHkSbcFNxFVHfFmZDgUO0hv7+v4DtilXwijigFTVvQeGOQsR2e2onZYB0m5CQ\\nKDljwhgLontBFmKvdiosU+57bq8XDum3RzwMLvXanokuBqkg2Emk5JZZZo4NDGpL\\nGNUDkAWcOb/tn2RwizU8U6F4BBigHd/lAq+RQCLv1V0wBEjjmX33OQ4Iw95auk+t\\n22H3DvpoNqEquGWdKidoVwc3fSRXKbqmqTAQgQ4iJslitdg9om5ZUZBd9VF5bviE\\neQIDAQAB\\n-----END PUBLIC KEY-----', '-----BEGIN PUBLIC KEY-----\\nMIIBIjANBgkqhkiG9w0BAQEFAAOCAQ8AMIIBCgKCAQEA7mobyMcVmnJpHg+GM9fk\\nwPQ1nE4K6iZ5edNGyerpaAra96UjX9fYDO2jgBrnvjquBJfciTpSh8G5G9FkQbmV\\nOaO4Wd/lWdIOfTYW6Td2rqP6NYtcgmvfjx+m1vPB1ucQdf/iNZcKjSFOJ2iSC6jI\\nX8hgfMHlLJ84Tn88xDeQnAdYMHmxG7+iDxV8owe6bx4XiRXW3U32XHpWjo3DDfyu\\nAHT+8OAng+I1neGdzstZtg/Ur2bARiFjoOaYKFtFWMZlXnE1m01RtfB4VrDMKUQw\\n+MzTRyFc2p9Y6YRxTgoeT+HLV/q/eqdbXO1ES6TXgFM9HIlV1jTwZGh0FOc667nH\\nAQIDAQAB\\n-----END PUBLIC KEY-----', '-----BEGIN PUBLIC KEY-----\\nMIIBIjANBgkqhkiG9w0BAQEFAAOCAQ8AMIIBCgKCAQEAtfhZPymNuwK/OqJFH64+\\niWScs7xr1UE4cvfhTSUYHy+HYhiq7xi9BkOgGTdH8MXbjmOQ3EwXAOAbAee3LxMu\\nk8jRwcKs1ZAQMpqmir1hCxqePWBrvo3Jdkr+S2dDI8NFMSCuPer4cy+gEvcLgC+3\\nM+sx0RW6VGQ7Vx4GGY4Yer8rxarp0gsHPJL7c85GxwcLyrCXcFh82DRSna34h+4p\\ns3ObaPbZvf7s51jnetNv3r4H6WzzLsxN2j0P0tiCEpMAdljkqhsivQQgkLXxbw7m\\n3h8KKUTdoVLC1ALLq/3JNW4zZSo4ZE1eyyAAPjx6VjWeYQwDEyDNdberatdJ+n9n\\nLQIDAQAB\\n-----END PUBLIC KEY-----', '-----BEGIN PUBLIC KEY-----\\nMIIBIjANBgkqhkiG9w0BAQEFAAOCAQ8AMIIBCgKCAQEA1JZmtp16XloETZ4uI5QU\\nfPdtKpNUEMMMI3jMQ0dtxCWCZ+bpDMeYwYHaCECyeFl1EkYRL6Au6XnbPz8WWLKA\\nI88fsiZbuRE5wVug9KOQu4FFrcQaq7oVQITQZ9L+6gSYKssZ9LNdhy+ieTi2OSwh\\nJ2V1bvCrXPQr016pTfr494fJ9euePl4C8zD3P4wXfO6hbngie6E1fBY8shQJdJXF\\n418wKfi/eX8RV1czjV97RdzP3oJK+vEd6pKqJ46zp8FZRseSU/f9sB8bUp6mtQUN\\n3Pgg3t7v4vtw/8T9T2Np10LY3m9Q9bu17ATMG8nbo1U6rB48PnAvhxqi54Oen+JY\\nLQIDAQAB\\n-----END PUBLIC KEY-----'], 'winnerAddr': '-----BEGIN PUBLIC KEY-----\\nMIIBIjANBgkqhkiG9w0BAQEFAAOCAQ8AMIIBCgKCAQEAjTOA/XNVVTUttxaXyOOf\\naY25RHjHVuDVNFgK4urx0FDQCcbA98+j8uWq+dMsM3+1g78yjK46uhdR2ZTGhMaR\\nk64kefrmzPZMQtI21UphwaHxk6PcUswMnieOOkJNrT+VpyZ1eI2uGVkrqnODX2EQ\\nMWy5jrs05aAakDLWWFwWZz3dSJ+UjmFepTV/1cLOa8VK+kOL6MtcOj0CxmQvT0VH\\nDDwU0JUZFD1N+j16Ed3UU9BduaICtPPGZIBMzhQQtemxLhJzf4F3PFfD2wYyVwz2\\nvlk1Ye/a7sWMOrC+Apqg3U16gq+arP7XmQN+d4KbWXpdXhEcIwGH7bE9clmYscCX\\ndQIDAQAB\\n-----END PUBLIC KEY-----', 'matchData': [{'gold_per_min': 242, 'xp_per_min': 190, 'kills_per_min': 0.13777267508610794, 'last_hits_per_min': 0.20665901262916186, 'hero_damage_per_min': 189.16188289322616, 'hero_healing_per_min': 39.540757749712974, 'tower_damage': 955, 'stuns_per_min': 0, 'isRadiant': True}, {'gold_per_min': 475, 'xp_per_min': 424, 'kills_per_min': 0.13777267508610794, 'last_hits_per_min': 5.442020665901263, 'hero_damage_per_min': 139.63260619977038, 'hero_healing_per_min': 0, 'tower_damage': 4701, 'stuns_per_min': 0, 'isRadiant': True}, {'gold_per_min': 430, 'xp_per_min': 338, 'kills_per_min': 0.2755453501722159, 'last_hits_per_min': 3.582089552238806, 'hero_damage_per_min': 359.17336394948336, 'hero_healing_per_min': 0, 'tower_damage': 1153, 'stuns_per_min': 0, 'isRadiant': True}, {'gold_per_min': 387, 'xp_per_min': 269, 'kills_per_min': 0, 'last_hits_per_min': 4.684270952927669, 'hero_damage_per_min': 181.58438576349022, 'hero_healing_per_min': 64.75315729047071, 'tower_damage': 777, 'stuns_per_min': 0, 'isRadiant': True}, {'gold_per_min': 303, 'xp_per_min': 178, 'kills_per_min': 0.41331802525832373, 'last_hits_per_min': 0.48220436280137774, 'hero_damage_per_min': 243.5820895522388, 'hero_healing_per_min': 0, 'tower_damage': 343, 'stuns_per_min': 0, 'isRadiant': True}, {'gold_per_min': 227, 'xp_per_min': 136, 'kills_per_min': 0, 'last_hits_per_min': 2.135476463834673, 'hero_damage_per_min': 149.96555683122847, 'hero_healing_per_min': 0, 'tower_damage': 0, 'stuns_per_min': 0, 'isRadiant': False}, {'gold_per_min': 144, 'xp_per_min': 110, 'kills_per_min': 0, 'last_hits_per_min': 0.41331802525832373, 'hero_damage_per_min': 178.82893226176807, 'hero_healing_per_min': 0, 'tower_damage': 0, 'stuns_per_min': 0, 'isRadiant': False}, {'gold_per_min': 153, 'xp_per_min': 151, 'kills_per_min': 0.06888633754305397, 'last_hits_per_min': 0.5510907003444317, 'hero_damage_per_min': 294.21354764638346, 'hero_healing_per_min': 0, 'tower_damage': 0, 'stuns_per_min': 0, 'isRadiant': False}, {'gold_per_min': 173, 'xp_per_min': 145, 'kills_per_min': 0, 'last_hits_per_min': 1.722158438576349, 'hero_damage_per_min': 224.29391504018372, 'hero_healing_per_min': 0, 'tower_damage': 0, 'stuns_per_min': 0, 'isRadiant': False}, {'gold_per_min': 555, 'xp_per_min': 157, 'kills_per_min': 0.06888633754305397, 'last_hits_per_min': 0.6888633754305397, 'hero_damage_per_min': 247.37083811710676, 'hero_healing_per_min': 18.94374282433984, 'tower_damage': 0, 'stuns_per_min': 0, 'isRadiant': False}]}\n"
     ]
    }
   ],
   "source": [
    "with open('genesis_block.data', 'r') as f:\n",
    "    data = json.loads(f.read())\n",
    "    print(data[0]['plyrAddrList'])\n",
    "    print(data[0]['winnerAddr'])\n",
    "    pr"
   ]
  },
  {
   "cell_type": "code",
   "execution_count": null,
   "metadata": {
    "collapsed": true
   },
   "outputs": [],
   "source": []
  }
 ],
 "metadata": {
  "kernelspec": {
   "display_name": "Python 3",
   "language": "python",
   "name": "python3"
  },
  "language_info": {
   "codemirror_mode": {
    "name": "ipython",
    "version": 3
   },
   "file_extension": ".py",
   "mimetype": "text/x-python",
   "name": "python",
   "nbconvert_exporter": "python",
   "pygments_lexer": "ipython3",
   "version": "3.6.3"
  }
 },
 "nbformat": 4,
 "nbformat_minor": 2
}
