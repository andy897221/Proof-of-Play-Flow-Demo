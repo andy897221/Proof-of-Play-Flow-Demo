{
 "cells": [
  {
   "cell_type": "code",
   "execution_count": null,
   "metadata": {},
   "outputs": [],
   "source": [
    "def traverseDict(keyPtr, valList, searchVal):\n",
    "    global dictPath\n",
    "    print(valList)\n",
    "    for val in valList:\n",
    "        try:\n",
    "            if type(keyPtr[val]) == type([]):\n",
    "                for subVali in range(0,len(keyPtr[val])):\n",
    "                    dictPath += \"item {} \".format(subVali)\n",
    "                    traverseDict(keyPtr[val][subVal], [], 0)\n",
    "            elif searchVal in keyPtr[val]:\n",
    "                return dictPath\n",
    "            else:\n",
    "                dictPath += val+\" \"\n",
    "                traverseDict(keyPtr[val], [v for k,v in keyPtr[val].items()], searchVal)\n",
    "        except KeyError:\n",
    "            dictPath = \"\"\n",
    "            continue"
   ]
  }
 ],
 "metadata": {
  "kernelspec": {
   "display_name": "Python 3",
   "language": "python",
   "name": "python3"
  },
  "language_info": {
   "codemirror_mode": {
    "name": "ipython",
    "version": 3
   },
   "file_extension": ".py",
   "mimetype": "text/x-python",
   "name": "python",
   "nbconvert_exporter": "python",
   "pygments_lexer": "ipython3",
   "version": "3.6.6"
  }
 },
 "nbformat": 4,
 "nbformat_minor": 2
}
