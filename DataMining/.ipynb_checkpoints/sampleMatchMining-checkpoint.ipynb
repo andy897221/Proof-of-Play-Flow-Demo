{
 "cells": [
  {
   "cell_type": "code",
   "execution_count": 24,
   "metadata": {},
   "outputs": [],
   "source": [
    "import numpy as np\n",
    "import pandas as pd\n",
    "import json\n",
    "import codecs"
   ]
  },
  {
   "cell_type": "code",
   "execution_count": 54,
   "metadata": {
    "scrolled": true
   },
   "outputs": [
    {
     "name": "stdout",
     "output_type": "stream",
     "text": [
      "{'gold_per_min': {'raw': 366, 'pct': None}, 'xp_per_min': {'raw': 189, 'pct': None}, 'kills_per_min': {'raw': 0, 'pct': None}, 'last_hits_per_min': {'raw': 2.4852071005917162, 'pct': None}, 'hero_damage_per_min': {'raw': 76.44970414201184, 'pct': None}, 'hero_healing_per_min': {'raw': 213.13609467455623, 'pct': None}, 'tower_damage': {'raw': 896, 'pct': None}, 'stuns_per_min': {'raw': 0, 'pct': None}, 'lhten': {}}\n"
     ]
    },
    {
     "data": {
      "text/plain": [
       "{}"
      ]
     },
     "execution_count": 54,
     "metadata": {},
     "output_type": "execute_result"
    }
   ],
   "source": [
    "data = json.load(codecs.open('sampleMatch.txt', 'r', 'utf-8-sig'))\n",
    "keys = [k for k,v in data.items()]\n",
    "data[\"players\"][0][\"benchmarks\"]\n",
    "data['players'][0]['multi_kills']\n",
    "data['players'][0]['kill_streaks']\n",
    "print(data[])"
   ]
  },
  {
   "cell_type": "code",
   "execution_count": null,
   "metadata": {},
   "outputs": [],
   "source": []
  }
 ],
 "metadata": {
  "kernelspec": {
   "display_name": "Python 3",
   "language": "python",
   "name": "python3"
  },
  "language_info": {
   "codemirror_mode": {
    "name": "ipython",
    "version": 3
   },
   "file_extension": ".py",
   "mimetype": "text/x-python",
   "name": "python",
   "nbconvert_exporter": "python",
   "pygments_lexer": "ipython3",
   "version": "3.6.6"
  }
 },
 "nbformat": 4,
 "nbformat_minor": 2
}
