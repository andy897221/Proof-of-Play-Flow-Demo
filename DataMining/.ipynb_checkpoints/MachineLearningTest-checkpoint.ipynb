{
 "cells": [
  {
   "cell_type": "code",
   "execution_count": 4,
   "metadata": {
    "collapsed": true
   },
   "outputs": [],
   "source": [
    "import numpy as np\n",
    "import pandas as pd\n",
    "import pickle"
   ]
  },
  {
   "cell_type": "code",
   "execution_count": 5,
   "metadata": {},
   "outputs": [
    {
     "name": "stdout",
     "output_type": "stream",
     "text": [
      "['aspect ratio', 'extent', 'solidity', 'equivalent diameter', 'mean intensity against background', 'min val', 'max val']\n"
     ]
    }
   ],
   "source": [
    "# Reading Data\n",
    "from sklearn.model_selection import train_test_split\n",
    "df = pd.read_csv('data.csv')\n",
    "restKeys = [i for i in df.keys() if i != \"isDot\"]\n",
    "print(restKeys)\n",
    "X_train, X_test, Y_train, Y_test = train_test_split(\n",
    "    df[restKeys], df[\"isDot\"], test_size=0.5, random_state=0)"
   ]
  },
  {
   "cell_type": "code",
   "execution_count": 6,
   "metadata": {
    "scrolled": true
   },
   "outputs": [
    {
     "name": "stdout",
     "output_type": "stream",
     "text": [
      "training set score: 0.7021369040565628\n",
      "testing set score: 0.6990283592700846\n"
     ]
    }
   ],
   "source": [
    "# Decision Tree Test\n",
    "from sklearn import tree\n",
    "clf = tree.DecisionTreeClassifier(criterion='entropy', max_depth=3, random_state=0)\n",
    "dump = clf.fit(X_train,Y_train)\n",
    "pickle.dump(clf, open('fullDataDecisionTree.sav', 'wb'))\n",
    "print(\"training set score: \"+str(clf.score(X_train, Y_train)))\n",
    "print(\"testing set score: \"+str(clf.score(X_test, Y_test)))"
   ]
  },
  {
   "cell_type": "code",
   "execution_count": 7,
   "metadata": {
    "scrolled": false
   },
   "outputs": [
    {
     "name": "stdout",
     "output_type": "stream",
     "text": [
      "training set score: 0.8144724888414899\n",
      "testing set score: 0.6696421518287384\n"
     ]
    }
   ],
   "source": [
    "# KNN Neighbor Test\n",
    "from sklearn.neighbors import KNeighborsClassifier\n",
    "neigh = KNeighborsClassifier(n_neighbors=2)\n",
    "neigh.fit(X_train, Y_train)\n",
    "print(\"training set score: \"+str(neigh.score(X_train, Y_train)))\n",
    "print(\"testing set score: \"+str(neigh.score(X_test, Y_test)))"
   ]
  },
  {
   "cell_type": "code",
   "execution_count": 8,
   "metadata": {
    "scrolled": true
   },
   "outputs": [
    {
     "name": "stderr",
     "output_type": "stream",
     "text": [
      "C:\\Users\\andy8\\Anaconda3\\envs\\bioImaging\\lib\\site-packages\\sklearn\\linear_model\\logistic.py:432: FutureWarning: Default solver will be changed to 'lbfgs' in 0.22. Specify a solver to silence this warning.\n",
      "  FutureWarning)\n"
     ]
    },
    {
     "name": "stdout",
     "output_type": "stream",
     "text": [
      "training set score: 0.7034798751826836\n",
      "testing set score: 0.7034125918318983\n"
     ]
    }
   ],
   "source": [
    "# Logistic Regression Test\n",
    "from sklearn.linear_model import LogisticRegression\n",
    "logreg = LogisticRegression()\n",
    "logreg.fit(X_train, Y_train)\n",
    "print(\"training set score: \"+str(logreg.score(X_train, Y_train)))\n",
    "print(\"testing set score: \"+str(logreg.score(X_test, Y_test)))"
   ]
  },
  {
   "cell_type": "code",
   "execution_count": 9,
   "metadata": {},
   "outputs": [
    {
     "name": "stdout",
     "output_type": "stream",
     "text": [
      "training set score: 0.7051388395149504\n",
      "testing set score: 0.7042420412354846\n"
     ]
    }
   ],
   "source": [
    "# Linear Discriminant Analysis Test\n",
    "from sklearn.discriminant_analysis import LinearDiscriminantAnalysis\n",
    "lda = LinearDiscriminantAnalysis()\n",
    "lda.fit(X_train, Y_train)\n",
    "print(\"training set score: \"+str(lda.score(X_train, Y_train)))\n",
    "print(\"testing set score: \"+str(lda.score(X_test, Y_test)))"
   ]
  },
  {
   "cell_type": "code",
   "execution_count": null,
   "metadata": {
    "collapsed": true
   },
   "outputs": [],
   "source": [
    "# SVM Test\n",
    "from sklearn import svm\n",
    "#linearSVM = svm.SVC(gamma='scale')\n",
    "#linearSVM.fit(X_train, Y_train)\n",
    "#print(\"training set score: \"+str(linearSVM.score(X_train, Y_train)))\n",
    "#print(\"testing set score: \"+str(linearSVM.score(X_test, Y_test)))\n",
    "#not working"
   ]
  },
  {
   "cell_type": "code",
   "execution_count": 10,
   "metadata": {},
   "outputs": [
    {
     "name": "stdout",
     "output_type": "stream",
     "text": [
      "training set score: 0.6996879567089308\n",
      "testing set score: 0.6974879532348527\n"
     ]
    }
   ],
   "source": [
    "# Naive Bayes' Naive Bayes\n",
    "from sklearn.naive_bayes import GaussianNB\n",
    "gnb = GaussianNB()\n",
    "gnb.fit(X_train, Y_train)\n",
    "print(\"training set score: \"+str(gnb.score(X_train, Y_train)))\n",
    "print(\"testing set score: \"+str(gnb.score(X_test, Y_test)))"
   ]
  },
  {
   "cell_type": "code",
   "execution_count": 11,
   "metadata": {},
   "outputs": [
    {
     "name": "stdout",
     "output_type": "stream",
     "text": [
      "training set score: 0.9999605008492317\n",
      "testing set score: 0.6982384074571452\n"
     ]
    }
   ],
   "source": [
    "# Random Forest Test\n",
    "from sklearn.ensemble import RandomForestClassifier\n",
    "forest = RandomForestClassifier(criterion='entropy', n_estimators=100, random_state=3, n_jobs=2)\n",
    "forest.fit(X_train, Y_train)\n",
    "print(\"training set score: \"+str(forest.score(X_train, Y_train)))\n",
    "print(\"testing set score: \"+str(forest.score(X_test, Y_test)))"
   ]
  },
  {
   "cell_type": "code",
   "execution_count": 12,
   "metadata": {},
   "outputs": [
    {
     "name": "stdout",
     "output_type": "stream",
     "text": [
      "training set score: 0.703400876881147\n",
      "testing set score: 0.7001342918081997\n"
     ]
    }
   ],
   "source": [
    "#AdaBoost Test\n",
    "from sklearn.ensemble import AdaBoostClassifier\n",
    "bdt = AdaBoostClassifier(tree.DecisionTreeClassifier(max_depth=1),\n",
    "                         algorithm=\"SAMME\",\n",
    "                         n_estimators=200)\n",
    "\n",
    "bdt.fit(X_train, Y_train)\n",
    "print(\"training set score: \"+str(bdt.score(X_train, Y_train)))\n",
    "print(\"testing set score: \"+str(bdt.score(X_test, Y_test)))"
   ]
  },
  {
   "cell_type": "code",
   "execution_count": 13,
   "metadata": {},
   "outputs": [
    {
     "name": "stdout",
     "output_type": "stream",
     "text": [
      "training set score: 0.7097997393056049\n",
      "testing set score: 0.7080733075282408\n"
     ]
    }
   ],
   "source": [
    "# NN (Perceptor) Test\n",
    "from sklearn.neural_network import MLPClassifier\n",
    "NN = MLPClassifier(solver='lbfgs', alpha=1e-5, hidden_layer_sizes=(7,7,5,5,5), random_state=1)\n",
    "NN.fit(X_train, Y_train)\n",
    "print(\"training set score: \"+str(NN.score(X_train, Y_train)))\n",
    "print(\"testing set score: \"+str(NN.score(X_test, Y_test)))"
   ]
  },
  {
   "cell_type": "code",
   "execution_count": null,
   "metadata": {
    "collapsed": true
   },
   "outputs": [],
   "source": [
    "# non linear SVM Test\n",
    "#from sklearn import svm\n",
    "#nonLinearSVM = svm.NuSVC(gamma='auto')\n",
    "#nonLinearSVM.fit(X_train, Y_train)\n",
    "#print(\"training set score: \"+str(nonLinearSVM.score(X_train, Y_train)))\n",
    "#print(\"testing set score: \"+str(nonLinearSVM.score(X_test, Y_test)))"
   ]
  },
  {
   "cell_type": "code",
   "execution_count": null,
   "metadata": {
    "collapsed": true
   },
   "outputs": [],
   "source": []
  }
 ],
 "metadata": {
  "kernelspec": {
   "display_name": "Python 3",
   "language": "python",
   "name": "python3"
  },
  "language_info": {
   "codemirror_mode": {
    "name": "ipython",
    "version": 3
   },
   "file_extension": ".py",
   "mimetype": "text/x-python",
   "name": "python",
   "nbconvert_exporter": "python",
   "pygments_lexer": "ipython3",
   "version": "3.6.3"
  }
 },
 "nbformat": 4,
 "nbformat_minor": 2
}
