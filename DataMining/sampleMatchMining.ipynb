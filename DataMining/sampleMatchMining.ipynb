{
 "cells": [
  {
   "cell_type": "code",
   "execution_count": 2,
   "metadata": {
    "collapsed": true
   },
   "outputs": [],
   "source": [
    "import numpy as np\n",
    "import pandas as pd\n",
    "import json\n",
    "import codecs"
   ]
  },
  {
   "cell_type": "code",
   "execution_count": 26,
   "metadata": {
    "scrolled": true
   },
   "outputs": [
    {
     "name": "stdout",
     "output_type": "stream",
     "text": [
      "{'gold_per_min': {'raw': 416, 'pct': None}, 'xp_per_min': {'raw': 212, 'pct': None}, 'kills_per_min': {'raw': 0.1183431952662722, 'pct': None}, 'last_hits_per_min': {'raw': 2.9585798816568047, 'pct': None}, 'hero_damage_per_min': {'raw': 83.66863905325444, 'pct': None}, 'hero_healing_per_min': {'raw': 47.337278106508876, 'pct': None}, 'tower_damage': {'raw': 2555, 'pct': None}, 'stuns_per_min': {'raw': 0, 'pct': None}, 'lhten': {}}\n",
      "1\n",
      "True\n",
      "True\n"
     ]
    }
   ],
   "source": [
    "data = json.load(codecs.open('sampleMatch.data', 'r', 'utf-8-sig'))\n",
    "keys = [k for k,v in data.items()]\n",
    "#print(len(data[\"players\"][0][\"benchmarks\"]))\n",
    "#print(data[\"players\"][0][\"name\"])\n",
    "print(data[\"players\"][0][\"benchmarks\"])\n",
    "print(data['players'][0]['kda'])\n",
    "print(data['players'][0]['isRadiant'])\n",
    "print(data['radiant_win'])\n",
    "#print(data['radiant_xp_adv'])\n",
    "#print(data['radiant_gold_adv'])"
   ]
  },
  {
   "cell_type": "code",
   "execution_count": null,
   "metadata": {
    "collapsed": true
   },
   "outputs": [],
   "source": []
  }
 ],
 "metadata": {
  "kernelspec": {
   "display_name": "Python 3",
   "language": "python",
   "name": "python3"
  },
  "language_info": {
   "codemirror_mode": {
    "name": "ipython",
    "version": 3
   },
   "file_extension": ".py",
   "mimetype": "text/x-python",
   "name": "python",
   "nbconvert_exporter": "python",
   "pygments_lexer": "ipython3",
   "version": "3.6.3"
  }
 },
 "nbformat": 4,
 "nbformat_minor": 2
}
